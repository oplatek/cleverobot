{
 "metadata": {
  "signature": "sha256:fcc912a564692f69a4c1b37a9eb73dcd40bd429038ca5b8e7bc13aa488708e9f"
 },
 "nbformat": 3,
 "nbformat_minor": 0,
 "worksheets": [
  {
   "cells": [
    {
     "cell_type": "code",
     "collapsed": false,
     "input": [
      "cd scripts/dep_parse  # Assert about scripts/dep_parse instead of cd"
     ],
     "language": "python",
     "metadata": {},
     "outputs": [
      {
       "output_type": "stream",
       "stream": "stdout",
       "text": [
        "[Errno 2] No such file or directory: 'scripts/dep_parse # Assert about scripts/dep_parse instead of cd'\n",
        "/Users/ondrejplatek/code/cleverobot/scripts/dep_parse\n"
       ]
      }
     ],
     "prompt_number": 1
    },
    {
     "cell_type": "code",
     "collapsed": false,
     "input": [
      "import dependency_parsing_demo as dp\n",
      "reload(dp)\n"
     ],
     "language": "python",
     "metadata": {},
     "outputs": [
      {
       "metadata": {},
       "output_type": "pyout",
       "prompt_number": 2,
       "text": [
        "<module 'dependency_parsing_demo' from 'dependency_parsing_demo.pyc'>"
       ]
      }
     ],
     "prompt_number": 2
    },
    {
     "cell_type": "code",
     "collapsed": false,
     "input": [
      "sent = ['Hi, I know you', 'I will come at eight','I know Petr', 'Petr is from Prague', 'I like no Peter', 'I do not like any Peter',]"
     ],
     "language": "python",
     "metadata": {},
     "outputs": [],
     "prompt_number": 3
    },
    {
     "cell_type": "code",
     "collapsed": false,
     "input": [
      "for s in sent:\n",
      "    print s\n",
      "    print dp.dg2triplet(dp.dependency_parse(s))\n",
      "    print '\\n'"
     ],
     "language": "python",
     "metadata": {},
     "outputs": [
      {
       "output_type": "stream",
       "stream": "stdout",
       "text": [
        "Hi, I know you\n",
        "None"
       ]
      },
      {
       "output_type": "stream",
       "stream": "stdout",
       "text": [
        "\n",
        "\n",
        "\n",
        "I will come at eight\n",
        "None"
       ]
      },
      {
       "output_type": "stream",
       "stream": "stdout",
       "text": [
        "\n",
        "\n",
        "\n",
        "I know Petr\n",
        "<type 'dict'>"
       ]
      },
      {
       "output_type": "stream",
       "stream": "stdout",
       "text": [
        "\n",
        "nsubj\n",
        "(u'I', u'know', u'Petr')\n",
        "\n",
        "\n",
        "Petr is from Prague\n",
        "<type 'dict'>"
       ]
      },
      {
       "output_type": "stream",
       "stream": "stdout",
       "text": [
        "\n",
        "nsubj\n",
        "(u'Petr', u'isFrom', u'Prague')\n",
        "\n",
        "\n",
        "I like no Peter\n",
        "<type 'dict'>"
       ]
      },
      {
       "output_type": "stream",
       "stream": "stdout",
       "text": [
        "\n",
        "nsubj\n",
        "(u'I', u'like', u'Peter')\n",
        "\n",
        "\n",
        "I do not like any Peter\n",
        "None"
       ]
      },
      {
       "output_type": "stream",
       "stream": "stdout",
       "text": [
        "\n",
        "\n",
        "\n"
       ]
      }
     ],
     "prompt_number": 5
    },
    {
     "cell_type": "code",
     "collapsed": false,
     "input": [
      "for s in sent:\n",
      "    print s\n",
      "    print dp.dependency_parse(s)\n",
      "    print '\\n'"
     ],
     "language": "python",
     "metadata": {},
     "outputs": [
      {
       "output_type": "stream",
       "stream": "stdout",
       "text": [
        "Hi, I know you\n",
        "[{u'address': 0,\n",
        "  u'ctag': u'TOP',\n",
        "  u'deps': [4],\n",
        "  u'feats': None,\n",
        "  u'lemma': None,\n",
        "  u'rel': u'TOP',\n",
        "  u'tag': u'TOP',\n",
        "  u'word': None},\n",
        " {u'address': 1,\n",
        "  u'ctag': u'NNP',\n",
        "  u'deps': [],\n",
        "  u'feats': u'_',\n",
        "  u'head': 4,\n",
        "  u'lemma': u'_',\n",
        "  u'rel': u'nsubj',\n",
        "  u'tag': u'NNP',\n",
        "  u'word': u'Hi'},\n",
        " {u'address': 2,\n",
        "  u'ctag': u',',\n",
        "  u'deps': [],\n",
        "  u'feats': u'_',\n",
        "  u'head': 4,\n",
        "  u'lemma': u'_',\n",
        "  u'rel': u'punct',\n",
        "  u'tag': u',',\n",
        "  u'word': u','},\n",
        " {u'address': 3,\n",
        "  u'ctag': u'PRP',\n",
        "  u'deps': [],\n",
        "  u'feats': u'_',\n",
        "  u'head': 4,\n",
        "  u'lemma': u'_',\n",
        "  u'rel': u'nsubj',\n",
        "  u'tag': u'PRP',\n",
        "  u'word': u'I'},\n",
        " {u'address': 4,\n",
        "  u'ctag': u'VBP',\n",
        "  u'deps': [1, 2, 3, 5],\n",
        "  u'feats': u'_',\n",
        "  u'head': 0,\n",
        "  u'lemma': u'_',\n",
        "  u'rel': u'null',\n",
        "  u'tag': u'VBP',\n",
        "  u'word': u'know'},\n",
        " {u'address': 5,\n",
        "  u'ctag': u'PRP',\n",
        "  u'deps': [],\n",
        "  u'feats': u'_',\n",
        "  u'head': 4,\n",
        "  u'lemma': u'_',\n",
        "  u'rel': u'dobj',\n",
        "  u'tag': u'PRP',\n",
        "  u'word': u'you'}]"
       ]
      },
      {
       "output_type": "stream",
       "stream": "stdout",
       "text": [
        "\n",
        "\n",
        "\n",
        "I will come at eight\n",
        "[{u'address': 0,\n",
        "  u'ctag': u'TOP',\n",
        "  u'deps': [3],\n",
        "  u'feats': None,\n",
        "  u'lemma': None,\n",
        "  u'rel': u'TOP',\n",
        "  u'tag': u'TOP',\n",
        "  u'word': None},\n",
        " {u'address': 1,\n",
        "  u'ctag': u'PRP',\n",
        "  u'deps': [],\n",
        "  u'feats': u'_',\n",
        "  u'head': 3,\n",
        "  u'lemma': u'_',\n",
        "  u'rel': u'nsubj',\n",
        "  u'tag': u'PRP',\n",
        "  u'word': u'I'},\n",
        " {u'address': 2,\n",
        "  u'ctag': u'MD',\n",
        "  u'deps': [],\n",
        "  u'feats': u'_',\n",
        "  u'head': 3,\n",
        "  u'lemma': u'_',\n",
        "  u'rel': u'aux',\n",
        "  u'tag': u'MD',\n",
        "  u'word': u'will'},\n",
        " {u'address': 3,\n",
        "  u'ctag': u'VB',\n",
        "  u'deps': [1, 2, 4],\n",
        "  u'feats': u'_',\n",
        "  u'head': 0,\n",
        "  u'lemma': u'_',\n",
        "  u'rel': u'null',\n",
        "  u'tag': u'VB',\n",
        "  u'word': u'come'},\n",
        " {u'address': 4,\n",
        "  u'ctag': u'IN',\n",
        "  u'deps': [5],\n",
        "  u'feats': u'_',\n",
        "  u'head': 3,\n",
        "  u'lemma': u'_',\n",
        "  u'rel': u'prep',\n",
        "  u'tag': u'IN',\n",
        "  u'word': u'at'},\n",
        " {u'address': 5,\n",
        "  u'ctag': u'CD',\n",
        "  u'deps': [],\n",
        "  u'feats': u'_',\n",
        "  u'head': 4,\n",
        "  u'lemma': u'_',\n",
        "  u'rel': u'pobj',\n",
        "  u'tag': u'CD',\n",
        "  u'word': u'eight'}]"
       ]
      },
      {
       "output_type": "stream",
       "stream": "stdout",
       "text": [
        "\n",
        "\n",
        "\n",
        "I know Petr\n",
        "[{u'address': 0,\n",
        "  u'ctag': u'TOP',\n",
        "  u'deps': [2],\n",
        "  u'feats': None,\n",
        "  u'lemma': None,\n",
        "  u'rel': u'TOP',\n",
        "  u'tag': u'TOP',\n",
        "  u'word': None},\n",
        " {u'address': 1,\n",
        "  u'ctag': u'PRP',\n",
        "  u'deps': [],\n",
        "  u'feats': u'_',\n",
        "  u'head': 2,\n",
        "  u'lemma': u'_',\n",
        "  u'rel': u'nsubj',\n",
        "  u'tag': u'PRP',\n",
        "  u'word': u'I'},\n",
        " {u'address': 2,\n",
        "  u'ctag': u'VBP',\n",
        "  u'deps': [1, 3],\n",
        "  u'feats': u'_',\n",
        "  u'head': 0,\n",
        "  u'lemma': u'_',\n",
        "  u'rel': u'null',\n",
        "  u'tag': u'VBP',\n",
        "  u'word': u'know'},\n",
        " {u'address': 3,\n",
        "  u'ctag': u'NNP',\n",
        "  u'deps': [],\n",
        "  u'feats': u'_',\n",
        "  u'head': 2,\n",
        "  u'lemma': u'_',\n",
        "  u'rel': u'dobj',\n",
        "  u'tag': u'NNP',\n",
        "  u'word': u'Petr'}]"
       ]
      },
      {
       "output_type": "stream",
       "stream": "stdout",
       "text": [
        "\n",
        "\n",
        "\n",
        "Petr is from Prague\n",
        "[{u'address': 0,\n",
        "  u'ctag': u'TOP',\n",
        "  u'deps': [2],\n",
        "  u'feats': None,\n",
        "  u'lemma': None,\n",
        "  u'rel': u'TOP',\n",
        "  u'tag': u'TOP',\n",
        "  u'word': None},\n",
        " {u'address': 1,\n",
        "  u'ctag': u'NNP',\n",
        "  u'deps': [],\n",
        "  u'feats': u'_',\n",
        "  u'head': 2,\n",
        "  u'lemma': u'_',\n",
        "  u'rel': u'nsubj',\n",
        "  u'tag': u'NNP',\n",
        "  u'word': u'Petr'},\n",
        " {u'address': 2,\n",
        "  u'ctag': u'VBZ',\n",
        "  u'deps': [1, 3],\n",
        "  u'feats': u'_',\n",
        "  u'head': 0,\n",
        "  u'lemma': u'_',\n",
        "  u'rel': u'null',\n",
        "  u'tag': u'VBZ',\n",
        "  u'word': u'is'},\n",
        " {u'address': 3,\n",
        "  u'ctag': u'IN',\n",
        "  u'deps': [4],\n",
        "  u'feats': u'_',\n",
        "  u'head': 2,\n",
        "  u'lemma': u'_',\n",
        "  u'rel': u'prep',\n",
        "  u'tag': u'IN',\n",
        "  u'word': u'from'},\n",
        " {u'address': 4,\n",
        "  u'ctag': u'NNP',\n",
        "  u'deps': [],\n",
        "  u'feats': u'_',\n",
        "  u'head': 3,\n",
        "  u'lemma': u'_',\n",
        "  u'rel': u'pobj',\n",
        "  u'tag': u'NNP',\n",
        "  u'word': u'Prague'}]"
       ]
      },
      {
       "output_type": "stream",
       "stream": "stdout",
       "text": [
        "\n",
        "\n",
        "\n",
        "I like no Peter\n",
        "[{u'address': 0,\n",
        "  u'ctag': u'TOP',\n",
        "  u'deps': [2],\n",
        "  u'feats': None,\n",
        "  u'lemma': None,\n",
        "  u'rel': u'TOP',\n",
        "  u'tag': u'TOP',\n",
        "  u'word': None},\n",
        " {u'address': 1,\n",
        "  u'ctag': u'PRP',\n",
        "  u'deps': [],\n",
        "  u'feats': u'_',\n",
        "  u'head': 2,\n",
        "  u'lemma': u'_',\n",
        "  u'rel': u'nsubj',\n",
        "  u'tag': u'PRP',\n",
        "  u'word': u'I'},\n",
        " {u'address': 2,\n",
        "  u'ctag': u'VBP',\n",
        "  u'deps': [1, 4],\n",
        "  u'feats': u'_',\n",
        "  u'head': 0,\n",
        "  u'lemma': u'_',\n",
        "  u'rel': u'null',\n",
        "  u'tag': u'VBP',\n",
        "  u'word': u'like'},\n",
        " {u'address': 3,\n",
        "  u'ctag': u'DT',\n",
        "  u'deps': [],\n",
        "  u'feats': u'_',\n",
        "  u'head': 4,\n",
        "  u'lemma': u'_',\n",
        "  u'rel': u'det',\n",
        "  u'tag': u'DT',\n",
        "  u'word': u'no'},\n",
        " {u'address': 4,\n",
        "  u'ctag': u'NNP',\n",
        "  u'deps': [3],\n",
        "  u'feats': u'_',\n",
        "  u'head': 2,\n",
        "  u'lemma': u'_',\n",
        "  u'rel': u'dobj',\n",
        "  u'tag': u'NNP',\n",
        "  u'word': u'Peter'}]"
       ]
      },
      {
       "output_type": "stream",
       "stream": "stdout",
       "text": [
        "\n",
        "\n",
        "\n",
        "I do not like any Peter\n",
        "[{u'address': 0,\n",
        "  u'ctag': u'TOP',\n",
        "  u'deps': [4],\n",
        "  u'feats': None,\n",
        "  u'lemma': None,\n",
        "  u'rel': u'TOP',\n",
        "  u'tag': u'TOP',\n",
        "  u'word': None},\n",
        " {u'address': 1,\n",
        "  u'ctag': u'PRP',\n",
        "  u'deps': [],\n",
        "  u'feats': u'_',\n",
        "  u'head': 4,\n",
        "  u'lemma': u'_',\n",
        "  u'rel': u'nsubj',\n",
        "  u'tag': u'PRP',\n",
        "  u'word': u'I'},\n",
        " {u'address': 2,\n",
        "  u'ctag': u'VBP',\n",
        "  u'deps': [],\n",
        "  u'feats': u'_',\n",
        "  u'head': 4,\n",
        "  u'lemma': u'_',\n",
        "  u'rel': u'aux',\n",
        "  u'tag': u'VBP',\n",
        "  u'word': u'do'},\n",
        " {u'address': 3,\n",
        "  u'ctag': u'RB',\n",
        "  u'deps': [],\n",
        "  u'feats': u'_',\n",
        "  u'head': 4,\n",
        "  u'lemma': u'_',\n",
        "  u'rel': u'neg',\n",
        "  u'tag': u'RB',\n",
        "  u'word': u'not'},\n",
        " {u'address': 4,\n",
        "  u'ctag': u'VB',\n",
        "  u'deps': [1, 2, 3, 6],\n",
        "  u'feats': u'_',\n",
        "  u'head': 0,\n",
        "  u'lemma': u'_',\n",
        "  u'rel': u'null',\n",
        "  u'tag': u'VB',\n",
        "  u'word': u'like'},\n",
        " {u'address': 5,\n",
        "  u'ctag': u'DT',\n",
        "  u'deps': [],\n",
        "  u'feats': u'_',\n",
        "  u'head': 6,\n",
        "  u'lemma': u'_',\n",
        "  u'rel': u'det',\n",
        "  u'tag': u'DT',\n",
        "  u'word': u'any'},\n",
        " {u'address': 6,\n",
        "  u'ctag': u'NNP',\n",
        "  u'deps': [5],\n",
        "  u'feats': u'_',\n",
        "  u'head': 4,\n",
        "  u'lemma': u'_',\n",
        "  u'rel': u'dobj',\n",
        "  u'tag': u'NNP',\n",
        "  u'word': u'Peter'}]"
       ]
      },
      {
       "output_type": "stream",
       "stream": "stdout",
       "text": [
        "\n",
        "\n",
        "\n"
       ]
      }
     ],
     "prompt_number": 6
    },
    {
     "cell_type": "code",
     "collapsed": false,
     "input": [
      "for s in sent:\n",
      "    dg = dp.dependency_parse(s)\n",
      "    print s\n",
      "    dp.display_graph(dg)"
     ],
     "language": "python",
     "metadata": {},
     "outputs": [
      {
       "output_type": "stream",
       "stream": "stdout",
       "text": [
        "Hi, I know you\n"
       ]
      },
      {
       "metadata": {},
       "output_type": "display_data",
       "png": "[encoded data removed]"
      },
      {
       "output_type": "stream",
       "stream": "stdout",
       "text": [
        "I will come at eight\n"
       ]
      },
      {
       "metadata": {},
       "output_type": "display_data",
       "png": "[encoded data removed]"
      },
      {
       "output_type": "stream",
       "stream": "stdout",
       "text": [
        "I know Petr\n"
       ]
      },
      {
       "metadata": {},
       "output_type": "display_data",
       "png": "[encoded data removed]"
      },
      {
       "output_type": "stream",
       "stream": "stdout",
       "text": [
        "Petr is from Prague\n"
       ]
      },
      {
       "metadata": {},
       "output_type": "display_data",
       "png": "[encoded data removed]"
      },
      {
       "output_type": "stream",
       "stream": "stdout",
       "text": [
        "I like no Peter\n"
       ]
      },
      {
       "metadata": {},
       "output_type": "display_data",
       "png": "[encoded data removed]"
      },
      {
       "output_type": "stream",
       "stream": "stdout",
       "text": [
        "I do not like any Peter\n"
       ]
      },
      {
       "metadata": {},
       "output_type": "display_data",
       "png": "[encoded data removed]"
      }
     ],
     "prompt_number": 7
    }
   ],
   "metadata": {}
  }
 ]
}