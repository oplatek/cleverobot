{
 "metadata": {
  "name": "",
  "signature": "sha256:88b7c21c932263be1b7a1d03dffcb0d9c2898f5258937523584ebec37e2b3fec"
 },
 "nbformat": 3,
 "nbformat_minor": 0,
 "worksheets": [
  {
   "cells": [
    {
     "cell_type": "markdown",
     "metadata": {},
     "source": [
      "Verbnet and Framenet\n",
      "====================\n",
      "Source information\n",
      "- http://nbviewer.ipython.org/url/lope.linguistics.ntu.edu.tw/courses/python4nlp/week6-2.Working.with.Lexical.Data.2.ipynb"
     ]
    },
    {
     "cell_type": "code",
     "collapsed": false,
     "input": [
      "import nltk\n",
      "nltk.download('verbnet')"
     ],
     "language": "python",
     "metadata": {},
     "outputs": [
      {
       "output_type": "stream",
       "stream": "stdout",
       "text": [
        "[nltk_data] Downloading package verbnet to\n",
        "[nltk_data]     /Users/ondrejplatek/nltk_data...\n",
        "[nltk_data]   Unzipping corpora/verbnet.zip."
       ]
      },
      {
       "output_type": "stream",
       "stream": "stdout",
       "text": [
        "\n"
       ]
      },
      {
       "metadata": {},
       "output_type": "pyout",
       "prompt_number": 6,
       "text": [
        "True"
       ]
      }
     ],
     "prompt_number": 6
    },
    {
     "cell_type": "code",
     "collapsed": false,
     "input": [
      "from nltk.corpus import verbnet as vn"
     ],
     "language": "python",
     "metadata": {},
     "outputs": [],
     "prompt_number": 7
    },
    {
     "cell_type": "code",
     "collapsed": false,
     "input": [
      "len(vn.classids())"
     ],
     "language": "python",
     "metadata": {},
     "outputs": [
      {
       "metadata": {},
       "output_type": "pyout",
       "prompt_number": 26,
       "text": [
        "429"
       ]
      }
     ],
     "prompt_number": 26
    },
    {
     "cell_type": "code",
     "collapsed": false,
     "input": [
      "c = 'hit-18.1-1'\n",
      "vn.wordnetids(c)\n"
     ],
     "language": "python",
     "metadata": {},
     "outputs": [
      {
       "metadata": {},
       "output_type": "pyout",
       "prompt_number": 65,
       "text": [
        "['bang%2:35:00',\n",
        " 'bang%2:35:01',\n",
        " 'bash%2:35:00',\n",
        " 'batter%2:35:01',\n",
        " 'batter%2:35:00',\n",
        " 'batter%2:30:00',\n",
        " 'beat%2:35:01',\n",
        " 'beat%2:36:00',\n",
        " 'beat%2:35:03',\n",
        " 'beat%2:35:10',\n",
        " 'beat%2:35:12',\n",
        " 'bump%2:35:00',\n",
        " 'butt%2:35:00',\n",
        " 'dash%2:35:02',\n",
        " 'drum%2:39:00',\n",
        " 'hammer%2:35:00',\n",
        " 'hit%2:35:01',\n",
        " 'hit%2:35:00',\n",
        " 'hit%2:33:01',\n",
        " 'hit%2:33:03',\n",
        " 'kick%2:35:00',\n",
        " 'knock%2:35:01',\n",
        " 'knock%2:35:00',\n",
        " 'knock%2:39:00',\n",
        " 'lash%2:35:01',\n",
        " 'lash%2:35:00',\n",
        " 'pound%2:35:00',\n",
        " 'pound%2:35:01',\n",
        " 'pound%2:30:03',\n",
        " 'rap%2:35:00',\n",
        " 'rap%2:39:00',\n",
        " 'slap%2:35:00',\n",
        " 'smack%2:35:02',\n",
        " 'strike%2:35:01',\n",
        " 'strike%2:35:00',\n",
        " 'strike%2:35:09',\n",
        " 'tamp%2:35:00',\n",
        " 'tap%2:35:00',\n",
        " 'tap%2:39:01',\n",
        " 'thump%2:35:00',\n",
        " 'thwack%2:35:00',\n",
        " 'whack%2:35:00',\n",
        " 'click%2:35:00']"
       ]
      }
     ],
     "prompt_number": 65
    },
    {
     "cell_type": "code",
     "collapsed": false,
     "input": [
      "print vn.pprint_semantics(c)"
     ],
     "language": "python",
     "metadata": {},
     "outputs": []
    },
    {
     "cell_type": "code",
     "collapsed": false,
     "input": [
      "print vn.pprint_themroles('hit-18.1-1')"
     ],
     "language": "python",
     "metadata": {},
     "outputs": [
      {
       "output_type": "stream",
       "stream": "stdout",
       "text": [
        "* Instrument[+body_part +refl]\n"
       ]
      }
     ],
     "prompt_number": 30
    },
    {
     "cell_type": "code",
     "collapsed": false,
     "input": [
      "vc = vn.classids('hit')\n",
      "v = vc[2]\n",
      "print v, type(v)\n",
      "print vn.pprint_themroles(v)\n",
      "vn.pprint_frame('57')"
     ],
     "language": "python",
     "metadata": {},
     "outputs": [
      {
       "output_type": "stream",
       "stream": "stdout",
       "text": [
        "hit-18.1-1 <type 'unicode'>\n",
        "* Instrument[+body_part +refl]\n"
       ]
      },
      {
       "ename": "AttributeError",
       "evalue": "'int' object has no attribute 'attrib'",
       "output_type": "pyerr",
       "traceback": [
        "\u001b[0;31m---------------------------------------------------------------------------\u001b[0m\n\u001b[0;31mAttributeError\u001b[0m                            Traceback (most recent call last)",
        "\u001b[0;32m<ipython-input-48-132e50459ce7>\u001b[0m in \u001b[0;36m<module>\u001b[0;34m()\u001b[0m\n\u001b[1;32m      3\u001b[0m \u001b[0;32mprint\u001b[0m \u001b[0mv\u001b[0m\u001b[0;34m,\u001b[0m \u001b[0mtype\u001b[0m\u001b[0;34m(\u001b[0m\u001b[0mv\u001b[0m\u001b[0;34m)\u001b[0m\u001b[0;34m\u001b[0m\u001b[0m\n\u001b[1;32m      4\u001b[0m \u001b[0;32mprint\u001b[0m \u001b[0mvn\u001b[0m\u001b[0;34m.\u001b[0m\u001b[0mpprint_themroles\u001b[0m\u001b[0;34m(\u001b[0m\u001b[0mv\u001b[0m\u001b[0;34m)\u001b[0m\u001b[0;34m\u001b[0m\u001b[0m\n\u001b[0;32m----> 5\u001b[0;31m \u001b[0mvn\u001b[0m\u001b[0;34m.\u001b[0m\u001b[0mpprint_frame\u001b[0m\u001b[0;34m(\u001b[0m\u001b[0;34m'57'\u001b[0m\u001b[0;34m)\u001b[0m\u001b[0;34m\u001b[0m\u001b[0m\n\u001b[0m",
        "\u001b[0;32m/Users/ondrejplatek/.local/lib/python/site-packages/nltk/corpus/reader/verbnet.pyc\u001b[0m in \u001b[0;36mpprint_frame\u001b[0;34m(self, vnframe, indent)\u001b[0m\n\u001b[1;32m    337\u001b[0m             \u001b[0ma\u001b[0m \u001b[0mverbnet\u001b[0m \u001b[0mframe\u001b[0m\u001b[0;34m.\u001b[0m\u001b[0;34m\u001b[0m\u001b[0m\n\u001b[1;32m    338\u001b[0m         \"\"\"\n\u001b[0;32m--> 339\u001b[0;31m         \u001b[0ms\u001b[0m \u001b[0;34m=\u001b[0m \u001b[0mself\u001b[0m\u001b[0;34m.\u001b[0m\u001b[0mpprint_description\u001b[0m\u001b[0;34m(\u001b[0m\u001b[0mvnframe\u001b[0m\u001b[0;34m,\u001b[0m \u001b[0mindent\u001b[0m\u001b[0;34m)\u001b[0m \u001b[0;34m+\u001b[0m \u001b[0;34m'\\n'\u001b[0m\u001b[0;34m\u001b[0m\u001b[0m\n\u001b[0m\u001b[1;32m    340\u001b[0m         \u001b[0ms\u001b[0m \u001b[0;34m+=\u001b[0m \u001b[0mself\u001b[0m\u001b[0;34m.\u001b[0m\u001b[0mpprint_syntax\u001b[0m\u001b[0;34m(\u001b[0m\u001b[0mvnframe\u001b[0m\u001b[0;34m,\u001b[0m \u001b[0mindent\u001b[0m\u001b[0;34m+\u001b[0m\u001b[0;34m'  Syntax: '\u001b[0m\u001b[0;34m)\u001b[0m \u001b[0;34m+\u001b[0m \u001b[0;34m'\\n'\u001b[0m\u001b[0;34m\u001b[0m\u001b[0m\n\u001b[1;32m    341\u001b[0m         \u001b[0ms\u001b[0m \u001b[0;34m+=\u001b[0m \u001b[0mindent\u001b[0m \u001b[0;34m+\u001b[0m \u001b[0;34m'  Semantics:\\n'\u001b[0m\u001b[0;34m\u001b[0m\u001b[0m\n",
        "\u001b[0;32m/Users/ondrejplatek/.local/lib/python/site-packages/nltk/corpus/reader/verbnet.pyc\u001b[0m in \u001b[0;36mpprint_description\u001b[0;34m(self, vnframe, indent)\u001b[0m\n\u001b[1;32m    352\u001b[0m         \"\"\"\n\u001b[1;32m    353\u001b[0m         \u001b[0mdescr\u001b[0m \u001b[0;34m=\u001b[0m \u001b[0mvnframe\u001b[0m\u001b[0;34m.\u001b[0m\u001b[0mfind\u001b[0m\u001b[0;34m(\u001b[0m\u001b[0;34m'DESCRIPTION'\u001b[0m\u001b[0;34m)\u001b[0m\u001b[0;34m\u001b[0m\u001b[0m\n\u001b[0;32m--> 354\u001b[0;31m         \u001b[0ms\u001b[0m \u001b[0;34m=\u001b[0m \u001b[0mindent\u001b[0m \u001b[0;34m+\u001b[0m \u001b[0mdescr\u001b[0m\u001b[0;34m.\u001b[0m\u001b[0mattrib\u001b[0m\u001b[0;34m[\u001b[0m\u001b[0;34m'primary'\u001b[0m\u001b[0;34m]\u001b[0m\u001b[0;34m\u001b[0m\u001b[0m\n\u001b[0m\u001b[1;32m    355\u001b[0m         \u001b[0;32mif\u001b[0m \u001b[0mdescr\u001b[0m\u001b[0;34m.\u001b[0m\u001b[0mget\u001b[0m\u001b[0;34m(\u001b[0m\u001b[0;34m'secondary'\u001b[0m\u001b[0;34m,\u001b[0m \u001b[0;34m''\u001b[0m\u001b[0;34m)\u001b[0m\u001b[0;34m:\u001b[0m\u001b[0;34m\u001b[0m\u001b[0m\n\u001b[1;32m    356\u001b[0m             \u001b[0ms\u001b[0m \u001b[0;34m+=\u001b[0m \u001b[0;34m' (%s)'\u001b[0m \u001b[0;34m%\u001b[0m \u001b[0mdescr\u001b[0m\u001b[0;34m.\u001b[0m\u001b[0mget\u001b[0m\u001b[0;34m(\u001b[0m\u001b[0;34m'secondary'\u001b[0m\u001b[0;34m)\u001b[0m\u001b[0;34m\u001b[0m\u001b[0m\n",
        "\u001b[0;31mAttributeError\u001b[0m: 'int' object has no attribute 'attrib'"
       ]
      }
     ],
     "prompt_number": 48
    },
    {
     "cell_type": "code",
     "collapsed": false,
     "input": [
      "from nltk.corpus import framenet as fn\n",
      "print fn.lu(256).name\n",
      "print fn.lu(256).definition\n",
      "print fn.lu(256).frame"
     ],
     "language": "python",
     "metadata": {},
     "outputs": [
      {
       "output_type": "stream",
       "stream": "stdout",
       "text": [
        "foresee.v\n",
        "COD: be aware of beforehand; predict.\n",
        "frame (26): Expectation\n",
        "\n",
        "[definition]\n",
        "  Words in this frame have to do with a Cognizer believing that\n",
        "  some Phenomenon will take place in the future.  Some words in the\n",
        "  frame (e.g. foresee.v) indicate that the Phenomenon is asserted\n",
        "  also to be true, while others do not.  'Michael expected Abby to\n",
        "  demand examples.' 'From the look on her face Michael expected\n",
        "  that she would say she got the job.'\n",
        "\n",
        "[semTypes] 0 semantic types\n",
        "\n",
        "[frameRelations] 2 frame relations\n",
        "  <Parent=Awareness -- Inheritance -> Child=Expectation>\n",
        "  <Parent=Expectation -- Using -> Child=Predicting>\n",
        "\n",
        "[lexUnit] 13 lexical units\n",
        "  anticipate.v (253), await.v (254), expect.v (255), expectation.n\n",
        "  (13081), foresee.v (256), foreseeable.a (3588), predict.v (257),\n",
        "  predictable.a (3585), prediction.n (13082), premonition.n\n",
        "  (13083), unexpected.a (13928), unforeseeable.a (3587),\n",
        "  unpredictable.a (3586)\n",
        "\n",
        "\n",
        "[FE] 9 frame elements\n",
        "            Core: Cognizer (109), Phenomenon (110), Topic (9837)\n",
        "      Peripheral: Degree (1029), Evidence (1041), Manner (1033), Place (9835), Time (9836)\n",
        "  Extra-Thematic: Depictive (1030)\n",
        "\n",
        "[FEcoreSets] 1 frame element core sets\n",
        "  Topic, Phenomenon\n",
        "\n"
       ]
      }
     ],
     "prompt_number": 51
    },
    {
     "cell_type": "code",
     "collapsed": false,
     "input": [
      "fr = fn.frames_by_lemma('swim')\n",
      "print len(fr)\n",
      "for f in fr:\n",
      "    print f"
     ],
     "language": "python",
     "metadata": {},
     "outputs": [
      {
       "output_type": "stream",
       "stream": "stdout",
       "text": [
        "2\n",
        "frame (64): Self_motion\n",
        "\n",
        "[definition]\n",
        "  The Self_mover, a living being, moves under its own power in a\n",
        "  directed fashion, i.e. along what could be described as a Path,\n",
        "  with no separate vehicle.\n",
        "\n",
        "[semTypes] 0 semantic types\n",
        "\n",
        "[frameRelations] 14 frame relations\n",
        "  <Parent=Intentionally_act -- Inheritance -> Child=Self_motion>\n",
        "  <Parent=Motion -- Inheritance -> Child=Self_motion>\n",
        "  <Parent=Self_motion -- Inheritance -> Child=Cotheme>\n",
        "  <Parent=Self_motion -- Inheritance -> Child=Fleeing>\n",
        "  <Parent=Self_motion -- Inheritance -> Child=Intentional_traversing>\n",
        "  <Parent=Self_motion -- Inheritance -> Child=Travel>\n",
        "  <Complex=Self_motion -- Subframe -> Component=Quitting_a_place>\n",
        "  <MainEntry=Motion -- See_also -> ReferringEntry=Self_motion>\n",
        "  <Source=Operate_vehicle -- ReFraming_Mapping -> Target=Self_motion>\n",
        "  <Source=Self_motion -- ReFraming_Mapping -> Target=Body_movement>\n",
        "  <Source=Self_motion -- ReFraming_Mapping -> Target=Escaping>\n",
        "  <Source=Self_motion -- ReFraming_Mapping -> Target=Fleeing>\n",
        "  <Source=Self_motion -- ReFraming_Mapping -> Target=Ride_vehicle>\n",
        "  <Source=Traversing -- ReFraming_Mapping -> Target=Self_motion>\n",
        "\n",
        "[lexUnit] 145 lexical units\n",
        "  advance.v (14836), amble.v (1152), back.v (1153), barge.v (1154),\n",
        "  bop.v (1156), bound.v (1157), burrow.v (1158), bustle.v (1159),\n",
        "  canter.v (1160), caper.v (1161), clamber.v (1162), climb.v\n",
        "  (1163), clomp.v (1164), coast.v (8775), crawl.n (4779), crawl.v\n",
        "  (1165), creep.v (1166), cruise.v (8859), dance.v (1167), dart.v\n",
        "  (1168), dash.n (1169), dash.v (1170), drive.v (8772), edge.v\n",
        "  (12993), file.v (15044), flit.v (1171), flounce.v (1172), fly.v\n",
        "  (6266), frolic.v (1173), gallivant.v (1174), gambol.v (1175),\n",
        "  goose-step.v (4472), hasten.v (1176), head.v (6387), hike.n\n",
        "  (1177), hike.v (1178), hitchhike.v (1179), hobble.v (1180), hop.v\n",
        "  (1181), hurry.v (1182), jaunt.n (1183), jog.v (1184), jump.v\n",
        "  (1185), leap.v (1186), limp.v (1187), lope.v (1188), lumber.v\n",
        "  (1189), lunge.v (1190), lurch.v (1191), make a beeline.v (8221),\n",
        "  make.v (6404), march.n (1192), march.v (1193), meander.v (1194),\n",
        "  mince.v (1195), mosey.v (1196), nance.v (11900), pace.v (1197),\n",
        "  pad.v (1198), parade.v (1199), plod.v (1200), pounce.v (1201),\n",
        "  prance.v (1202), proceed.v (6053), promenade.v (1203), prowl.v\n",
        "  (1204), repair.v (6403), rip.v (15318), roam.v (1205), romp.v\n",
        "  (1206), rove.v (14010), run.v (1207), rush.v (1208), sail.v\n",
        "  (8774), sashay.v (1209), saunter.v (1210), scamper.v (1211),\n",
        "  scoot.v (1212), scramble.n (1213), scramble.v (1214), scurry.v\n",
        "  (1215), scuttle.v (1216), shoulder.v (9951), shuffle.n (1217),\n",
        "  shuffle.v (1218), sidle.v (6055), skim.v (4336), skip.v (1219),\n",
        "  skulk.v (1220), slalom.v (1221), sleepwalk.v (1222), slink.v\n",
        "  (1223), slip.v (15926), slither.v (1224), slog.n (1225), slog.v\n",
        "  (1226), slop.v (3923), slosh.v (3921), slouch.v (15674), sneak.v\n",
        "  (1227), spring.v (1228), sprint.n (1229), sprint.v (1230),\n",
        "  stagger.v (1231), stalk.v (6449), steal.v (1233), step.n (1234),\n",
        "  step.v (1235), stomp.v (1236), storm.v (6649), straggle.v (1237),\n",
        "  stride.v (1238), stroll.n (1239), stroll.v (1240), strut.v\n",
        "  (1241), stumble.v (1242), swagger.v (1243), swim.n (1244), swim.v\n",
        "  (1245), swing.v (12992), tack.v (8883), take to the air.v\n",
        "  (15211), taxi.v (8884), tiptoe.v (1246), toddle.v (1247),\n",
        "  totter.v (1248), traipse.v (1249), tramp.v (1250), tread.v\n",
        "  (1251), trek.v (1252), trip.v (1253), troop.v (1254), trot.v\n",
        "  (1255), trudge.v (1256), trundle.v (1257), vault.v (1258),\n",
        "  venture.v (6646), waddle.v (1259), wade.v (1260), walk.n (1261),\n",
        "  walk.v (8350), waltz.v (1262), wander.v (1263), way.n (14180),\n",
        "  wriggle.v (1264)\n",
        "\n",
        "\n",
        "[FE] 23 frame elements\n",
        "            Core: Area (291), Direction (9348), Goal (288), Path (287), Self_mover (285), Source (286)\n",
        "      Peripheral: Distance (290), Duration (3164), Manner (289), Means (1983), Path_shape (9871), Place (4890), Purpose (3165), Speed (1979), Time (1977)\n",
        "  Extra-Thematic: Concessive (14071), Coordinated_event (9475), Cotheme (1978), Depictive (1982), External_cause (6505), Internal_cause (1987), Reason (5054), Result (1984)\n",
        "\n",
        "[FEcoreSets] 1 frame element core sets\n",
        "  Goal, Direction, Path, Source\n",
        "\n",
        "frame (134): Clothing\n",
        "\n",
        "[definition]\n",
        "  This frame refers to clothing and its characteristics,  including\n",
        "  anything that people conventionally wear.  The Wearer wears a\n",
        "  Garment that has a certain Style, is made of a certain Material,\n",
        "  and can be otherwise characterized by a Descriptor.  In some\n",
        "  cases, the Body_location (where the garment is worn) and\n",
        "  Subregion of the clothing may also be specified.  'Claudia\n",
        "  dressed in a dark green cotton DRESS clasped round her slender\n",
        "  waist with a broad yellow belt , drank a cup of coffee and opened\n",
        "  her neglected post .'\n",
        "\n",
        "[semTypes] 1 semantic types\n",
        "  Artifact(61)\n",
        "\n",
        "[frameRelations] 6 frame relations\n",
        "  <Parent=Artifact -- Inheritance -> Child=Clothing>\n",
        "  <Parent=Closure -- Using -> Child=Clothing>\n",
        "  <Parent=Clothing -- Using -> Child=Clothing_parts>\n",
        "  <Parent=Clothing -- Using -> Child=Dressing>\n",
        "  <Parent=Clothing -- Using -> Child=Undressing>\n",
        "  <Parent=Clothing -- Using -> Child=Wearing>\n",
        "\n",
        "[lexUnit] 164 lexical units\n",
        "  abaya.n (3619), alb.n (3666), apparel.n (3059), apron.n (3035),\n",
        "  armour.n (3625), attire.n (3062), ballgown.n (2687), bathrobe.n\n",
        "  (3034), bikini.n (3030), blazer.n (2996), blouse.n (2907),\n",
        "  bodice.n (3344), boot.n (3558), bow-tie.n (2948), bra.n (3395),\n",
        "  brassiere.n (3396), breeches.n (3660), briefs.n (7201), buskin.n\n",
        "  (3670), camisole.n (3356), cape.n (2909), cardigan.n (2994),\n",
        "  chasuble.n (3668), chemise.n (2689), cloak.n (2908), clog.n\n",
        "  (3561), clothes.n (2936), clothing.n (2935), coat.n (2910),\n",
        "  cope.n (3669), corset.n (3345), cossie.n (11150), costume.n\n",
        "  (3543), cottons.n (3650), coverall.n (3380), cowl.n (3637),\n",
        "  cravat.n (4058), crinoline.n (3635), culottes.n (2688),\n",
        "  cummerbund.n (2942), doublet.n (3656), dress.n (2657), ensemble.n\n",
        "  (3546), ermines.n (3653), finery.n (2937), fishnet.n (3037),\n",
        "  flannels.n (3645), flip-flops.n (3642), footwear.n (3599),\n",
        "  frock.n (2682), g-string.n (3641), galosh.n (3548), garb.n\n",
        "  (3383), garment.n (3069), garter.n (2976), gauntlet.n (3680),\n",
        "  get-up.n (3545), glove.n (3142), gown.n (2731), greatcoat.n\n",
        "  (2911), gumboot.n (3560), hose.n (2925), hosiery.n (2933),\n",
        "  jacket.n (2913), jeans.n (3378), jerkin.n (3626), jodhpurs.n\n",
        "  (2690), jumper.n (2993), jumpsuit.n (3400), kaftan.n (3403),\n",
        "  kilt.n (2997), kimono.n (3402), knickers.n (2990), leggings.n\n",
        "  (2695), legwarmers.n (3046), lingerie.n (3355), livery.n (3067),\n",
        "  miniskirt.n (3036), mitt.n (3141), mitten.n (3140), motley.n\n",
        "  (3544), muff.n (3636), muslins.n (3654), neckerchief.n (3659),\n",
        "  necktie.n (2940), neckwear.n (2941), nightdress.n (3352),\n",
        "  nightgown.n (3353), nightie.n (3351), nightwear.n (3354), one-\n",
        "  piece.n (3643), outfit.n (3068), overall.n (3379), overcoat.n\n",
        "  (2912), pallium.n (3671), panties.n (2985), pants.n (2866),\n",
        "  pantyhose.n (2972), parka.n (3346), petticoat.n (2686),\n",
        "  pinafore.n (3077), polo-neck.n (3640), poncho.n (3603),\n",
        "  pullover.n (2995), pyjama.n (3350), rags.n (3646), raiment.n\n",
        "  (3057), raincoat.n (3349), regalia.n (3055), robe.n (3033),\n",
        "  sandal.n (3553), sari.n (3601), sarong.n (3602), satins.n (3649),\n",
        "  scarf.n (2943), shawl.n (2944), shift.n (3076), shirt.n (2906),\n",
        "  shoe.n (3559), shorts.n (2864), silks.n (3648), skirt.n (2732),\n",
        "  slip.n (2715), slipper.n (3552), smock.n (3388), sneaker.n\n",
        "  (3556), sock.n (2691), stiletto.n (3557), stocking.n (2692),\n",
        "  stole.n (3667), suit.n (2938), sundress.n (3389), surplice.n\n",
        "  (3547), sweater.n (2992), sweatpants.n (3663), sweatshirt.n\n",
        "  (3661), swimsuit.n (3026), t-shirt.n (3639), tatters.n (3657),\n",
        "  teddy.n (3397), tie.n (2915), tights.n (3398), tippet.n (3655),\n",
        "  togs.n (3074), tracksuit.n (3665), trousers.n (2878), tunic.n\n",
        "  (2696), tutu.n (3638), tweeds.n (3651), two-piece.n (3644),\n",
        "  underclothes.n (3072), underclothing.n (3071), undergarment.n\n",
        "  (3070), underwear.n (3073), undies.n (3075), uniform.n (3542),\n",
        "  vest.n (2914), vestment.n (3066), waistcoat.n (3357),\n",
        "  wellington.n (3551), welly.n (3550), windbreaker.n (3347),\n",
        "  windcheater.n (3348), wrap.n (2900)\n",
        "\n",
        "\n",
        "[FE] 11 frame elements\n",
        "            Core: Garment (869)\n",
        "      Peripheral: Body_location (2725), Creator (7220), Descriptor (873), Material (872), Name (7222), Style (871), Subregion (892), Time_of_creation (7221), Use (973), Wearer (870)\n",
        "\n",
        "[FEcoreSets] 0 frame element core sets\n",
        "  \n",
        "\n"
       ]
      }
     ],
     "prompt_number": 61
    }
   ],
   "metadata": {}
  }
 ]
}