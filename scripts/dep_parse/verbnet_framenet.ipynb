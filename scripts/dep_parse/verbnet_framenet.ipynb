{
 "metadata": {
  "name": "",
  "signature": "sha256:a9110698252331c4873effd65556ec7898731b3f2eb4c69da162304a42eb3e9c"
 },
 "nbformat": 3,
 "nbformat_minor": 0,
 "worksheets": [
  {
   "cells": [
    {
     "cell_type": "markdown",
     "metadata": {},
     "source": [
      "Verbnet and Framenet\n",
      "====================\n",
      "Source information\n",
      "- http://nbviewer.ipython.org/url/lope.linguistics.ntu.edu.tw/courses/python4nlp/week6-2.Working.with.Lexical.Data.2.ipynb"
     ]
    },
    {
     "cell_type": "code",
     "collapsed": false,
     "input": [
      "import nltk\n",
      "nltk.download('verbnet')\n",
      "nltk.download('framenet_v15')"
     ],
     "language": "python",
     "metadata": {},
     "outputs": [
      {
       "output_type": "stream",
       "stream": "stdout",
       "text": [
        "[nltk_data] Downloading package verbnet to\n",
        "[nltk_data]     /Users/ondrejplatek/nltk_data...\n",
        "[nltk_data]   Package verbnet is already up-to-date!\n",
        "[nltk_data] Downloading package framenet_v15 to\n",
        "[nltk_data]     /Users/ondrejplatek/nltk_data...\n",
        "[nltk_data]   Unzipping corpora/framenet_v15.zip."
       ]
      },
      {
       "output_type": "stream",
       "stream": "stdout",
       "text": [
        "\n"
       ]
      },
      {
       "metadata": {},
       "output_type": "pyout",
       "prompt_number": 18,
       "text": [
        "True"
       ]
      }
     ],
     "prompt_number": 18
    },
    {
     "cell_type": "code",
     "collapsed": false,
     "input": [
      "from nltk.corpus import verbnet as vn"
     ],
     "language": "python",
     "metadata": {},
     "outputs": [],
     "prompt_number": 7
    },
    {
     "cell_type": "code",
     "collapsed": false,
     "input": [
      "len(vn.classids())\n",
      "print vn.classids('hit')\n",
      "print vn.lemmas('hit-18.1-1')"
     ],
     "language": "python",
     "metadata": {},
     "outputs": [
      {
       "output_type": "stream",
       "stream": "stdout",
       "text": [
        "[u'bump-18.4', u'contiguous_location-47.8-1', u'hit-18.1-1', u'reach-51.8', u'throw-17.1-1']\n",
        "['bang', 'bash', 'batter', 'beat', 'bump', 'butt', 'dash', 'drum', 'hammer', 'hit', 'kick', 'knock', 'lash', 'pound', 'rap', 'slap', 'smack', 'strike', 'tamp', 'tap', 'thump', 'thwack', 'whack', 'click']\n"
       ]
      }
     ],
     "prompt_number": 15
    },
    {
     "cell_type": "code",
     "collapsed": false,
     "input": [
      "from nltk.corpus import framenet as fn\n",
      "fr = fn.frames_by_lemma(r'(?i)a little')\n",
      "print len(fr)\n",
      "print fr[0]"
     ],
     "language": "python",
     "metadata": {},
     "outputs": [
      {
       "output_type": "stream",
       "stream": "stdout",
       "text": [
        "2\n",
        "frame (189): Quantity\n",
        "\n",
        "[definition]\n",
        "  This frame contains transparent nouns (and some adjectives)\n",
        "  denoting quantities of a Mass or of Individuals. As opposed to\n",
        "  aggregate words such as group, set, these Quantity do not have a\n",
        "  status as Wholes on their own. Initially, at least, we annotate\n",
        "  both Quantity of Masses and of Individuals in this frame, though\n",
        "  we may split the frame along these lines later on.   'He found\n",
        "  them in the deluge of papers on his desk.'\n",
        "\n",
        "[semTypes] 0 semantic types\n",
        "\n",
        "[frameRelations] 2 frame relations\n",
        "  <Parent=Quantity -- Inheritance -> Child=Relational_quantity>\n",
        "  <Neutral=Measure_scenario -- Perspective_on -> Perspectivized=Quantity>\n",
        "\n",
        "[lexUnit] 56 lexical units\n",
        "  a bit.a (13797), a few.art (13370), a little.n (14733), a lot.n\n",
        "  (13232), abundance.n (3333), all.a (13747), amount.n (3381),\n",
        "  any.a (13745), avalanche.n (3836), billions.n (3330), both.a\n",
        "  (14734), degree.n (3420), deluge.n (3837), dose.n (14165),\n",
        "  dozens.n (3331), fair.a (15420), few.a (13369), few.n (13276),\n",
        "  flood.n (3839), handful.n (11730), heap.n (3321), hundreds.n\n",
        "  (3327), load.n (3322), many.a (13746), many.n (13277), mass.n\n",
        "  (3325), measure.n (3369), millions.n (3329), mite.n (3324),\n",
        "  modicum.n (3323), mountain.n (11729), multiple.a (13874),\n",
        "  myriad.n (3335), no.a (13869), number.n (3338), numerous.a\n",
        "  (13751), oodles.n (3318), ounce.n (3342), pile.n (3319), pinch.n\n",
        "  (3339), plethora.n (3336), quantity.n (3337), raft.n (7451),\n",
        "  scads.n (3326), scores.n (3419), several.a (13368), several.n\n",
        "  (13339), shitload.n (3332), smattering.n (15231), stream.n\n",
        "  (3841), thousands.n (3328), ton.n (3320), torrent.n (3838),\n",
        "  touch.n (3343), trickle.n (3840), wave.n (3842)\n",
        "\n",
        "\n",
        "[FE] 5 frame elements\n",
        "            Core: Individuals (1552), Mass (1551), Quantity (1550)\n",
        "      Peripheral: Degree (11951), Q_Prop (1553)\n",
        "\n",
        "[FEcoreSets] 1 frame element core sets\n",
        "  Mass, Individuals\n",
        "\n"
       ]
      }
     ],
     "prompt_number": 24
    }
   ],
   "metadata": {}
  }
 ]
}